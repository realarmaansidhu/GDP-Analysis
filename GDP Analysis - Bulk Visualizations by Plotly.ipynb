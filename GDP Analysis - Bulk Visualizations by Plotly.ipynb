{
 "cells": [
  {
   "cell_type": "code",
   "execution_count": 2,
   "id": "7118dac6",
   "metadata": {},
   "outputs": [],
   "source": [
    "import numpy as np\n",
    "import pandas as pd\n",
    "import seaborn as sns\n",
    "from matplotlib import pyplot as plt\n",
    "from plotly import express as px\n",
    "from plotly import offline as pyo"
   ]
  },
  {
   "cell_type": "code",
   "execution_count": 3,
   "id": "599ed675",
   "metadata": {},
   "outputs": [],
   "source": [
    "df = pd.read_csv(\"gdp.csv\")"
   ]
  },
  {
   "cell_type": "code",
   "execution_count": 4,
   "id": "883959b1",
   "metadata": {},
   "outputs": [
    {
     "data": {
      "text/html": [
       "<div>\n",
       "<style scoped>\n",
       "    .dataframe tbody tr th:only-of-type {\n",
       "        vertical-align: middle;\n",
       "    }\n",
       "\n",
       "    .dataframe tbody tr th {\n",
       "        vertical-align: top;\n",
       "    }\n",
       "\n",
       "    .dataframe thead th {\n",
       "        text-align: right;\n",
       "    }\n",
       "</style>\n",
       "<table border=\"1\" class=\"dataframe\">\n",
       "  <thead>\n",
       "    <tr style=\"text-align: right;\">\n",
       "      <th></th>\n",
       "      <th>Country Name</th>\n",
       "      <th>Country Code</th>\n",
       "      <th>Year</th>\n",
       "      <th>Value</th>\n",
       "      <th>GDP Growth Rate</th>\n",
       "    </tr>\n",
       "  </thead>\n",
       "  <tbody>\n",
       "    <tr>\n",
       "      <th>0</th>\n",
       "      <td>Arab World</td>\n",
       "      <td>ARB</td>\n",
       "      <td>1968</td>\n",
       "      <td>2.576068e+10</td>\n",
       "      <td>0.00</td>\n",
       "    </tr>\n",
       "    <tr>\n",
       "      <th>1</th>\n",
       "      <td>Arab World</td>\n",
       "      <td>ARB</td>\n",
       "      <td>1969</td>\n",
       "      <td>2.843420e+10</td>\n",
       "      <td>10.38</td>\n",
       "    </tr>\n",
       "    <tr>\n",
       "      <th>2</th>\n",
       "      <td>Arab World</td>\n",
       "      <td>ARB</td>\n",
       "      <td>1970</td>\n",
       "      <td>3.138550e+10</td>\n",
       "      <td>10.38</td>\n",
       "    </tr>\n",
       "    <tr>\n",
       "      <th>3</th>\n",
       "      <td>Arab World</td>\n",
       "      <td>ARB</td>\n",
       "      <td>1971</td>\n",
       "      <td>3.642691e+10</td>\n",
       "      <td>16.06</td>\n",
       "    </tr>\n",
       "    <tr>\n",
       "      <th>4</th>\n",
       "      <td>Arab World</td>\n",
       "      <td>ARB</td>\n",
       "      <td>1972</td>\n",
       "      <td>4.331606e+10</td>\n",
       "      <td>18.91</td>\n",
       "    </tr>\n",
       "    <tr>\n",
       "      <th>...</th>\n",
       "      <td>...</td>\n",
       "      <td>...</td>\n",
       "      <td>...</td>\n",
       "      <td>...</td>\n",
       "      <td>...</td>\n",
       "    </tr>\n",
       "    <tr>\n",
       "      <th>11502</th>\n",
       "      <td>Zimbabwe</td>\n",
       "      <td>ZWE</td>\n",
       "      <td>2012</td>\n",
       "      <td>1.424249e+10</td>\n",
       "      <td>17.72</td>\n",
       "    </tr>\n",
       "    <tr>\n",
       "      <th>11503</th>\n",
       "      <td>Zimbabwe</td>\n",
       "      <td>ZWE</td>\n",
       "      <td>2013</td>\n",
       "      <td>1.545177e+10</td>\n",
       "      <td>8.49</td>\n",
       "    </tr>\n",
       "    <tr>\n",
       "      <th>11504</th>\n",
       "      <td>Zimbabwe</td>\n",
       "      <td>ZWE</td>\n",
       "      <td>2014</td>\n",
       "      <td>1.589105e+10</td>\n",
       "      <td>2.84</td>\n",
       "    </tr>\n",
       "    <tr>\n",
       "      <th>11505</th>\n",
       "      <td>Zimbabwe</td>\n",
       "      <td>ZWE</td>\n",
       "      <td>2015</td>\n",
       "      <td>1.630467e+10</td>\n",
       "      <td>2.60</td>\n",
       "    </tr>\n",
       "    <tr>\n",
       "      <th>11506</th>\n",
       "      <td>Zimbabwe</td>\n",
       "      <td>ZWE</td>\n",
       "      <td>2016</td>\n",
       "      <td>1.661996e+10</td>\n",
       "      <td>1.93</td>\n",
       "    </tr>\n",
       "  </tbody>\n",
       "</table>\n",
       "<p>11507 rows × 5 columns</p>\n",
       "</div>"
      ],
      "text/plain": [
       "      Country Name Country Code  Year         Value  GDP Growth Rate\n",
       "0       Arab World          ARB  1968  2.576068e+10             0.00\n",
       "1       Arab World          ARB  1969  2.843420e+10            10.38\n",
       "2       Arab World          ARB  1970  3.138550e+10            10.38\n",
       "3       Arab World          ARB  1971  3.642691e+10            16.06\n",
       "4       Arab World          ARB  1972  4.331606e+10            18.91\n",
       "...            ...          ...   ...           ...              ...\n",
       "11502     Zimbabwe          ZWE  2012  1.424249e+10            17.72\n",
       "11503     Zimbabwe          ZWE  2013  1.545177e+10             8.49\n",
       "11504     Zimbabwe          ZWE  2014  1.589105e+10             2.84\n",
       "11505     Zimbabwe          ZWE  2015  1.630467e+10             2.60\n",
       "11506     Zimbabwe          ZWE  2016  1.661996e+10             1.93\n",
       "\n",
       "[11507 rows x 5 columns]"
      ]
     },
     "execution_count": 4,
     "metadata": {},
     "output_type": "execute_result"
    }
   ],
   "source": [
    "df[\"GDP Growth Rate\"] = round(df.groupby(\"Country Name\")[\"Value\"].pct_change() * 100, 2)\n",
    "df[\"GDP Growth Rate\"] = df[\"GDP Growth Rate\"].replace(np.NaN, 0)\n",
    "df"
   ]
  },
  {
   "cell_type": "markdown",
   "id": "0aa07000",
   "metadata": {},
   "source": [
    "## GDP Analysis of all entities"
   ]
  },
  {
   "cell_type": "code",
   "execution_count": 8,
   "id": "e0b8c5eb",
   "metadata": {},
   "outputs": [],
   "source": [
    "for country_name in df[\"Country Name\"].unique():\n",
    "    fig = px.line(df[df[\"Country Name\"] == country_name], x = \"Year\", y = \"Value\", title = f\"GDP Analysis of {country_name} by Year\")\n",
    "    pyo.plot(fig, filename = f\"GDP Analysis of all Entities/GDP Analysis of {country_name} by Year.html\", auto_open = False)"
   ]
  },
  {
   "cell_type": "markdown",
   "id": "fe0f5642",
   "metadata": {},
   "source": [
    "## GDP Analysis of all entities WRT 80T"
   ]
  },
  {
   "cell_type": "code",
   "execution_count": 10,
   "id": "a5754418",
   "metadata": {},
   "outputs": [],
   "source": [
    "for country_name in df[\"Country Name\"].unique():\n",
    "    fig = px.line(df[df[\"Country Name\"] == country_name], x = \"Year\", y = \"Value\", range_y = [0, 80000000000000], title = f\"GDP Analysis of {country_name} by Year WRT 80T\")\n",
    "    pyo.plot(fig, filename = f\"GDP Analysis of all Entities WRT 80T/GDP Analysis of {country_name} by Year WRT 80T.html\", auto_open = False)"
   ]
  }
 ],
 "metadata": {
  "kernelspec": {
   "display_name": "Python 3 (ipykernel)",
   "language": "python",
   "name": "python3"
  },
  "language_info": {
   "codemirror_mode": {
    "name": "ipython",
    "version": 3
   },
   "file_extension": ".py",
   "mimetype": "text/x-python",
   "name": "python",
   "nbconvert_exporter": "python",
   "pygments_lexer": "ipython3",
   "version": "3.11.5"
  }
 },
 "nbformat": 4,
 "nbformat_minor": 5
}
