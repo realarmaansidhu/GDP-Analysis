{
 "cells": [
  {
   "cell_type": "code",
   "execution_count": 31,
   "id": "7118dac6",
   "metadata": {},
   "outputs": [],
   "source": [
    "import numpy as np\n",
    "import pandas as pd\n",
    "import seaborn as sns\n",
    "from matplotlib import pyplot as plt\n",
    "from plotly import express as px\n",
    "from plotly import offline as pyo"
   ]
  },
  {
   "cell_type": "code",
   "execution_count": 32,
   "id": "599ed675",
   "metadata": {},
   "outputs": [],
   "source": [
    "df = pd.read_csv(\"gdp.csv\")"
   ]
  },
  {
   "cell_type": "code",
   "execution_count": 33,
   "id": "883959b1",
   "metadata": {},
   "outputs": [
    {
     "data": {
      "text/html": [
       "<div>\n",
       "<style scoped>\n",
       "    .dataframe tbody tr th:only-of-type {\n",
       "        vertical-align: middle;\n",
       "    }\n",
       "\n",
       "    .dataframe tbody tr th {\n",
       "        vertical-align: top;\n",
       "    }\n",
       "\n",
       "    .dataframe thead th {\n",
       "        text-align: right;\n",
       "    }\n",
       "</style>\n",
       "<table border=\"1\" class=\"dataframe\">\n",
       "  <thead>\n",
       "    <tr style=\"text-align: right;\">\n",
       "      <th></th>\n",
       "      <th>Country Name</th>\n",
       "      <th>Country Code</th>\n",
       "      <th>Year</th>\n",
       "      <th>Value</th>\n",
       "      <th>GDP Growth Rate</th>\n",
       "    </tr>\n",
       "  </thead>\n",
       "  <tbody>\n",
       "    <tr>\n",
       "      <th>0</th>\n",
       "      <td>Arab World</td>\n",
       "      <td>ARB</td>\n",
       "      <td>1968</td>\n",
       "      <td>2.576068e+10</td>\n",
       "      <td>0.00</td>\n",
       "    </tr>\n",
       "    <tr>\n",
       "      <th>1</th>\n",
       "      <td>Arab World</td>\n",
       "      <td>ARB</td>\n",
       "      <td>1969</td>\n",
       "      <td>2.843420e+10</td>\n",
       "      <td>10.38</td>\n",
       "    </tr>\n",
       "    <tr>\n",
       "      <th>2</th>\n",
       "      <td>Arab World</td>\n",
       "      <td>ARB</td>\n",
       "      <td>1970</td>\n",
       "      <td>3.138550e+10</td>\n",
       "      <td>10.38</td>\n",
       "    </tr>\n",
       "    <tr>\n",
       "      <th>3</th>\n",
       "      <td>Arab World</td>\n",
       "      <td>ARB</td>\n",
       "      <td>1971</td>\n",
       "      <td>3.642691e+10</td>\n",
       "      <td>16.06</td>\n",
       "    </tr>\n",
       "    <tr>\n",
       "      <th>4</th>\n",
       "      <td>Arab World</td>\n",
       "      <td>ARB</td>\n",
       "      <td>1972</td>\n",
       "      <td>4.331606e+10</td>\n",
       "      <td>18.91</td>\n",
       "    </tr>\n",
       "    <tr>\n",
       "      <th>...</th>\n",
       "      <td>...</td>\n",
       "      <td>...</td>\n",
       "      <td>...</td>\n",
       "      <td>...</td>\n",
       "      <td>...</td>\n",
       "    </tr>\n",
       "    <tr>\n",
       "      <th>11502</th>\n",
       "      <td>Zimbabwe</td>\n",
       "      <td>ZWE</td>\n",
       "      <td>2012</td>\n",
       "      <td>1.424249e+10</td>\n",
       "      <td>17.72</td>\n",
       "    </tr>\n",
       "    <tr>\n",
       "      <th>11503</th>\n",
       "      <td>Zimbabwe</td>\n",
       "      <td>ZWE</td>\n",
       "      <td>2013</td>\n",
       "      <td>1.545177e+10</td>\n",
       "      <td>8.49</td>\n",
       "    </tr>\n",
       "    <tr>\n",
       "      <th>11504</th>\n",
       "      <td>Zimbabwe</td>\n",
       "      <td>ZWE</td>\n",
       "      <td>2014</td>\n",
       "      <td>1.589105e+10</td>\n",
       "      <td>2.84</td>\n",
       "    </tr>\n",
       "    <tr>\n",
       "      <th>11505</th>\n",
       "      <td>Zimbabwe</td>\n",
       "      <td>ZWE</td>\n",
       "      <td>2015</td>\n",
       "      <td>1.630467e+10</td>\n",
       "      <td>2.60</td>\n",
       "    </tr>\n",
       "    <tr>\n",
       "      <th>11506</th>\n",
       "      <td>Zimbabwe</td>\n",
       "      <td>ZWE</td>\n",
       "      <td>2016</td>\n",
       "      <td>1.661996e+10</td>\n",
       "      <td>1.93</td>\n",
       "    </tr>\n",
       "  </tbody>\n",
       "</table>\n",
       "<p>11507 rows × 5 columns</p>\n",
       "</div>"
      ],
      "text/plain": [
       "      Country Name Country Code  Year         Value  GDP Growth Rate\n",
       "0       Arab World          ARB  1968  2.576068e+10             0.00\n",
       "1       Arab World          ARB  1969  2.843420e+10            10.38\n",
       "2       Arab World          ARB  1970  3.138550e+10            10.38\n",
       "3       Arab World          ARB  1971  3.642691e+10            16.06\n",
       "4       Arab World          ARB  1972  4.331606e+10            18.91\n",
       "...            ...          ...   ...           ...              ...\n",
       "11502     Zimbabwe          ZWE  2012  1.424249e+10            17.72\n",
       "11503     Zimbabwe          ZWE  2013  1.545177e+10             8.49\n",
       "11504     Zimbabwe          ZWE  2014  1.589105e+10             2.84\n",
       "11505     Zimbabwe          ZWE  2015  1.630467e+10             2.60\n",
       "11506     Zimbabwe          ZWE  2016  1.661996e+10             1.93\n",
       "\n",
       "[11507 rows x 5 columns]"
      ]
     },
     "execution_count": 33,
     "metadata": {},
     "output_type": "execute_result"
    }
   ],
   "source": [
    "df[\"GDP Growth Rate\"] = round(df.groupby(\"Country Name\")[\"Value\"].pct_change() * 100, 2)\n",
    "df[\"GDP Growth Rate\"] = df[\"GDP Growth Rate\"].replace(np.NaN, 0)\n",
    "df"
   ]
  },
  {
   "cell_type": "code",
   "execution_count": 34,
   "id": "38c7b61f",
   "metadata": {
    "scrolled": true
   },
   "outputs": [],
   "source": [
    "lst = [\"IND\", \"ITA\", \"USA\", \"CHN\", \"ARB\"]\n",
    "\n",
    "dfs = []\n",
    "for country_code in lst:\n",
    "    df_cc = df[df[\"Country Code\"] == country_code]\n",
    "    dfs.append(df_cc)\n",
    "    \n",
    "    df_pr = pd.concat(dfs, axis = 0)"
   ]
  },
  {
   "cell_type": "code",
   "execution_count": 35,
   "id": "f648017b",
   "metadata": {},
   "outputs": [
    {
     "data": {
      "text/plain": [
       "'GDP Comparison - IND|CHN.html'"
      ]
     },
     "execution_count": 35,
     "metadata": {},
     "output_type": "execute_result"
    }
   ],
   "source": [
    "fig = px.line(df_pr, x = \"Year\", y = \"Value\", color = \"Country Name\", title = \"GDP Comparison - \" + \"|\".join(lst))\n",
    "pyo.plot(fig, filename = \"GDP Comparison - IND|CHN.html\", auto_open = False)"
   ]
  },
  {
   "cell_type": "markdown",
   "id": "e16269a2",
   "metadata": {},
   "source": [
    "## GDP Growth Comparison between Specific Countries"
   ]
  },
  {
   "cell_type": "code",
   "execution_count": 36,
   "id": "e0ada300",
   "metadata": {},
   "outputs": [],
   "source": [
    "def compareGDP(lst, isOpen):\n",
    "    dfs = []\n",
    "    for country_code in lst:\n",
    "        df_cc = df[df[\"Country Code\"] == country_code]\n",
    "        dfs.append(df_cc)\n",
    "\n",
    "        df_pr = pd.concat(dfs, axis = 0)\n",
    "    fig = px.line(df_pr, x = \"Year\", y = \"Value\", color = \"Country Name\", title = \"GDP Comparison - \" + \"|\".join(lst))\n",
    "    pyo.plot(fig, filename = f'GDP Comparison - {\"|\".join(lst)}.html', auto_open = isOpen)"
   ]
  },
  {
   "cell_type": "code",
   "execution_count": 37,
   "id": "50370940",
   "metadata": {},
   "outputs": [],
   "source": [
    "compareGDP([\"PAK\", \"AFG\", \"IRN\", \"IND\", \"SAU\", \"ARE\", \"EGY\"], False)"
   ]
  }
 ],
 "metadata": {
  "kernelspec": {
   "display_name": "Python 3 (ipykernel)",
   "language": "python",
   "name": "python3"
  },
  "language_info": {
   "codemirror_mode": {
    "name": "ipython",
    "version": 3
   },
   "file_extension": ".py",
   "mimetype": "text/x-python",
   "name": "python",
   "nbconvert_exporter": "python",
   "pygments_lexer": "ipython3",
   "version": "3.11.5"
  }
 },
 "nbformat": 4,
 "nbformat_minor": 5
}
